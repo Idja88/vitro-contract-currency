{
 "cells": [
  {
   "cell_type": "code",
   "execution_count": 16,
   "metadata": {},
   "outputs": [],
   "source": [
    "import requests\n",
    "from datetime import datetime, timedelta\n",
    "import pandas as pd\n",
    "import numpy as np\n",
    "from openpyxl import Workbook, load_workbook\n",
    "import json\n",
    "import sqlalchemy as sa\n",
    "import urllib"
   ]
  },
  {
   "cell_type": "markdown",
   "metadata": {},
   "source": [
    "САЙТ НАЦ БАНКА РК"
   ]
  },
  {
   "cell_type": "code",
   "execution_count": null,
   "metadata": {},
   "outputs": [],
   "source": [
    "url = 'https://nationalbank.kz/ru/exchangerates/ezhednevnye-oficialnye-rynochnye-kursy-valyut/excel'\n",
    "\n",
    "query = '?beginDate=17.06.2024&endDate=24.06.2024&rates%5B%5D=5&rates%5B%5D=6'\n",
    "\n",
    "# 5 - USD\n",
    "# 6 - EUR"
   ]
  },
  {
   "cell_type": "markdown",
   "metadata": {},
   "source": [
    "Шаг 1: Скачать и сохранить файл"
   ]
  },
  {
   "cell_type": "code",
   "execution_count": 7,
   "metadata": {},
   "outputs": [],
   "source": [
    "# Получить текущую дату\n",
    "end_date = datetime.now()\n",
    "# Получить дату неделю назад\n",
    "begin_date = end_date - timedelta(days=7)\n",
    "\n",
    "# Преобразовать даты в нужный формат 'dd.mm.yyyy'\n",
    "end_date_str = end_date.strftime('%d.%m.%Y')\n",
    "begin_date_str = begin_date.strftime('%d.%m.%Y')\n",
    "\n",
    "#Валюты по ИД сайта\n",
    "# 5 - USD\n",
    "# 6 - EUR\n",
    "rates = [5, 6]"
   ]
  },
  {
   "cell_type": "code",
   "execution_count": 8,
   "metadata": {},
   "outputs": [
    {
     "name": "stdout",
     "output_type": "stream",
     "text": [
      "File saved as C:\\Users\\Bim_User\\Downloads\\exchange_rates.xlsx\n"
     ]
    }
   ],
   "source": [
    "url = 'https://nationalbank.kz/ru/exchangerates/ezhednevnye-oficialnye-rynochnye-kursy-valyut/excel'\n",
    "params = {\n",
    "    'beginDate': begin_date_str,\n",
    "    'endDate': end_date_str,\n",
    "    'rates[]': rates\n",
    "}\n",
    "\n",
    "response = requests.get(url, params=params)\n",
    "\n",
    "if response.status_code == 200:\n",
    "    filename = 'exchange_rates.xlsx'\n",
    "    file_path = f'C:\\\\Users\\\\Bim_User\\\\Downloads\\\\{filename}'\n",
    "    \n",
    "    # Сохранение файла\n",
    "    with open(file_path, 'wb') as file:\n",
    "        file.write(response.content)\n",
    "    \n",
    "    print(f'File saved as {file_path}')\n",
    "else:\n",
    "    print(f'Failed to download file. Status code: {response.status_code}')"
   ]
  },
  {
   "cell_type": "markdown",
   "metadata": {},
   "source": [
    "Шаг 2: Считать Excel файл и подготовить данные"
   ]
  },
  {
   "cell_type": "code",
   "execution_count": 11,
   "metadata": {},
   "outputs": [
    {
     "data": {
      "text/html": [
       "<div>\n",
       "<style scoped>\n",
       "    .dataframe tbody tr th:only-of-type {\n",
       "        vertical-align: middle;\n",
       "    }\n",
       "\n",
       "    .dataframe tbody tr th {\n",
       "        vertical-align: top;\n",
       "    }\n",
       "\n",
       "    .dataframe thead th {\n",
       "        text-align: right;\n",
       "    }\n",
       "</style>\n",
       "<table border=\"1\" class=\"dataframe\">\n",
       "  <thead>\n",
       "    <tr style=\"text-align: right;\">\n",
       "      <th></th>\n",
       "      <th>DATE</th>\n",
       "      <th>USD</th>\n",
       "      <th>EUR</th>\n",
       "    </tr>\n",
       "  </thead>\n",
       "  <tbody>\n",
       "    <tr>\n",
       "      <th>0</th>\n",
       "      <td>2024-06-17</td>\n",
       "      <td>450.79</td>\n",
       "      <td>482.21</td>\n",
       "    </tr>\n",
       "    <tr>\n",
       "      <th>1</th>\n",
       "      <td>2024-06-18</td>\n",
       "      <td>452.92</td>\n",
       "      <td>484.99</td>\n",
       "    </tr>\n",
       "    <tr>\n",
       "      <th>2</th>\n",
       "      <td>2024-06-19</td>\n",
       "      <td>457.98</td>\n",
       "      <td>490.86</td>\n",
       "    </tr>\n",
       "    <tr>\n",
       "      <th>3</th>\n",
       "      <td>2024-06-20</td>\n",
       "      <td>459.75</td>\n",
       "      <td>494.14</td>\n",
       "    </tr>\n",
       "    <tr>\n",
       "      <th>4</th>\n",
       "      <td>2024-06-21</td>\n",
       "      <td>459.60</td>\n",
       "      <td>493.06</td>\n",
       "    </tr>\n",
       "    <tr>\n",
       "      <th>5</th>\n",
       "      <td>2024-06-22</td>\n",
       "      <td>464.72</td>\n",
       "      <td>496.32</td>\n",
       "    </tr>\n",
       "    <tr>\n",
       "      <th>6</th>\n",
       "      <td>2024-06-23</td>\n",
       "      <td>464.72</td>\n",
       "      <td>496.32</td>\n",
       "    </tr>\n",
       "    <tr>\n",
       "      <th>7</th>\n",
       "      <td>2024-06-24</td>\n",
       "      <td>464.72</td>\n",
       "      <td>496.32</td>\n",
       "    </tr>\n",
       "  </tbody>\n",
       "</table>\n",
       "</div>"
      ],
      "text/plain": [
       "        DATE     USD     EUR\n",
       "0 2024-06-17  450.79  482.21\n",
       "1 2024-06-18  452.92  484.99\n",
       "2 2024-06-19  457.98  490.86\n",
       "3 2024-06-20  459.75  494.14\n",
       "4 2024-06-21  459.60  493.06\n",
       "5 2024-06-22  464.72  496.32\n",
       "6 2024-06-23  464.72  496.32\n",
       "7 2024-06-24  464.72  496.32"
      ]
     },
     "execution_count": 11,
     "metadata": {},
     "output_type": "execute_result"
    }
   ],
   "source": [
    "# Считать Excel файл в DataFrame\n",
    "df = pd.read_excel(file_path, engine='openpyxl')\n",
    "\n",
    "# Исключить ненужные столбцы и переименовать оставшиеся\n",
    "df = df[['Date', 'USD', 'EUR']]\n",
    "df.columns = ['DATE', 'USD', 'EUR']\n",
    "df['DATE'] = pd.to_datetime(df['DATE'], infer_datetime_format=True)\n",
    "\n",
    "df"
   ]
  },
  {
   "cell_type": "markdown",
   "metadata": {},
   "source": [
    "Шаг 3: Загрузить данные в MS SQL"
   ]
  },
  {
   "cell_type": "code",
   "execution_count": 22,
   "metadata": {},
   "outputs": [],
   "source": [
    "def connect_to_db(connection_string):\n",
    "    connection_uri = f\"mssql+pyodbc:///?odbc_connect={urllib.parse.quote_plus(connection_string)}\"\n",
    "    engine = sa.create_engine(connection_uri, fast_executemany=True, echo=True)\n",
    "    connection = engine.raw_connection()\n",
    "    return engine"
   ]
  },
  {
   "cell_type": "code",
   "execution_count": null,
   "metadata": {},
   "outputs": [],
   "source": [
    "# Загрузка конфигурации базы данных\n",
    "with open('config.json') as config_file:\n",
    "    config = json.load(config_file)\n",
    "\n",
    "database_uri = config['connection_string']\n",
    "engine = connect_to_db(database_uri)\n",
    "\n",
    "# Загрузка данных в таблицу\n",
    "df.to_sql('currency_history', engine, if_exists='append', index=False)\n",
    "print(\"Data has been inserted successfully.\")"
   ]
  }
 ],
 "metadata": {
  "kernelspec": {
   "display_name": "Python 3",
   "language": "python",
   "name": "python3"
  },
  "language_info": {
   "codemirror_mode": {
    "name": "ipython",
    "version": 3
   },
   "file_extension": ".py",
   "mimetype": "text/x-python",
   "name": "python",
   "nbconvert_exporter": "python",
   "pygments_lexer": "ipython3",
   "version": "3.10.7"
  }
 },
 "nbformat": 4,
 "nbformat_minor": 2
}
